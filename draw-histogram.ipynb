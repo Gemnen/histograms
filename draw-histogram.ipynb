{
 "cells": [
  {
   "cell_type": "code",
   "execution_count": 59,
   "metadata": {},
   "outputs": [
    {
     "data": {
      "text/html": [
       "        <script type=\"text/javascript\">\n",
       "        window.PlotlyConfig = {MathJaxConfig: 'local'};\n",
       "        if (window.MathJax) {MathJax.Hub.Config({SVG: {font: \"STIX-Web\"}});}\n",
       "        if (typeof require !== 'undefined') {\n",
       "        require.undef(\"plotly\");\n",
       "        requirejs.config({\n",
       "            paths: {\n",
       "                'plotly': ['https://cdn.plot.ly/plotly-2.9.0.min']\n",
       "            }\n",
       "        });\n",
       "        require(['plotly'], function(Plotly) {\n",
       "            window._Plotly = Plotly;\n",
       "        });\n",
       "        }\n",
       "        </script>\n",
       "        "
      ]
     },
     "metadata": {},
     "output_type": "display_data"
    }
   ],
   "source": [
    "from tkinter.tix import NoteBook\n",
    "import matplotlib\n",
    "import plotly \n",
    "import pandas \n",
    "import json\n",
    "import numpy as np\n",
    "from plotly.offline import download_plotlyjs, init_notebook_mode, plot, iplot\n",
    "init_notebook_mode(connected=True)\n",
    "import matplotlib.pyplot as plt\n",
    "%matplotlib inline"
   ]
  },
  {
   "cell_type": "code",
   "execution_count": 60,
   "metadata": {},
   "outputs": [
    {
     "name": "stdout",
     "output_type": "stream",
     "text": [
      "5.6.0\n",
      "Content from excel file:\n",
      "                                            Unnamed: 0 Unnamed: 1       2017  \\\n",
      "0                               ВТП Казани, тыс. руб.        NaN  674739900   \n",
      "1                    Добавленная стоимость, тыс. руб.        NaN  191057445   \n",
      "2   Оценка влияния прироста добавленной стоимости ...        NaN          -   \n",
      "3              Обрабатывающие производства, тыс. руб.         ДС   75373868   \n",
      "4                                                 NaN    Впериод          -   \n",
      "5                            Строительство, тыс. руб.         ДС    8376613   \n",
      "6                                                 NaN    Впериод          -   \n",
      "7               Транспортировка и хранение, тыс. руб.         ДС   26272378   \n",
      "8                                                 NaN    Впериод          -   \n",
      "9             Оптовая и розничная торговля, тыс. руб.         ДС   19963824   \n",
      "10                                                NaN    Впериод          -   \n",
      "11  Деятельность в области информатизации и связи,...         ДС    6646511   \n",
      "12                                                NaN    Впериод          -   \n",
      "\n",
      "            2018          2019          2020          2021          2022  \\\n",
      "0   7.487229e+08  7.730311e+08  7.981546e+08  8.240946e+08  8.508777e+08   \n",
      "1   2.215849e+08  2.261035e+08  2.307160e+08  2.354226e+08  2.402253e+08   \n",
      "2   4.524000e+00  6.040000e-01  5.970000e-01  5.900000e-01  5.830000e-01   \n",
      "3   8.016919e+07  7.606627e+07  7.878360e+07  7.995836e+07  7.985019e+07   \n",
      "4   7.110000e-01 -5.480000e-01  3.520000e-01  1.470000e-01 -1.300000e-02   \n",
      "5   9.553660e+06  8.194075e+06  8.888142e+06  9.065601e+06  8.888955e+06   \n",
      "6   1.740000e-01 -1.820000e-01  9.000000e-02  2.200000e-02 -2.100000e-02   \n",
      "7   3.540733e+07  2.987596e+06  2.215742e+07  2.069088e+07  1.547035e+07   \n",
      "8   1.354000e+00 -4.330000e+00  2.480000e+00 -1.840000e-01 -6.330000e-01   \n",
      "9   2.566550e+07  3.618143e+07  2.771900e+07  3.045395e+07  3.213704e+07   \n",
      "10  8.450000e-01  1.405000e+00 -1.095000e+00  3.430000e-01  2.040000e-01   \n",
      "11  9.461344e+06  1.026370e+07  8.946154e+06  9.756848e+06  9.857413e+06   \n",
      "12  4.170000e-01  1.070000e-01 -1.700000e-01  1.020000e-01  1.200000e-02   \n",
      "\n",
      "            2023  \n",
      "0   8.785312e+08  \n",
      "1   2.451259e+08  \n",
      "2   5.760000e-01  \n",
      "3   8.115682e+07  \n",
      "4   1.540000e-01  \n",
      "5   9.131324e+06  \n",
      "6   2.800000e-02  \n",
      "7   1.988466e+07  \n",
      "8   5.190000e-01  \n",
      "9   3.069124e+07  \n",
      "10 -1.700000e-01  \n",
      "11  9.709393e+06  \n",
      "12 -1.700000e-02  \n",
      "['2017', '2018', '2019', '2020', '2021', '2022', '2023', '']\n"
     ]
    },
    {
     "ename": "KeyError",
     "evalue": "('Unnamed: 0', '0')",
     "output_type": "error",
     "traceback": [
      "\u001b[1;31m---------------------------------------------------------------------------\u001b[0m",
      "\u001b[1;31mKeyError\u001b[0m                                  Traceback (most recent call last)",
      "File \u001b[1;32mc:\\Users\\pc\\anaconda3\\envs\\importXML\\lib\\site-packages\\pandas\\core\\indexes\\base.py:3621\u001b[0m, in \u001b[0;36mIndex.get_loc\u001b[1;34m(self, key, method, tolerance)\u001b[0m\n\u001b[0;32m   3620\u001b[0m \u001b[39mtry\u001b[39;00m:\n\u001b[1;32m-> 3621\u001b[0m     \u001b[39mreturn\u001b[39;00m \u001b[39mself\u001b[39;49m\u001b[39m.\u001b[39;49m_engine\u001b[39m.\u001b[39;49mget_loc(casted_key)\n\u001b[0;32m   3622\u001b[0m \u001b[39mexcept\u001b[39;00m \u001b[39mKeyError\u001b[39;00m \u001b[39mas\u001b[39;00m err:\n",
      "File \u001b[1;32mc:\\Users\\pc\\anaconda3\\envs\\importXML\\lib\\site-packages\\pandas\\_libs\\index.pyx:136\u001b[0m, in \u001b[0;36mpandas._libs.index.IndexEngine.get_loc\u001b[1;34m()\u001b[0m\n",
      "File \u001b[1;32mc:\\Users\\pc\\anaconda3\\envs\\importXML\\lib\\site-packages\\pandas\\_libs\\index.pyx:163\u001b[0m, in \u001b[0;36mpandas._libs.index.IndexEngine.get_loc\u001b[1;34m()\u001b[0m\n",
      "File \u001b[1;32mpandas\\_libs\\hashtable_class_helper.pxi:5198\u001b[0m, in \u001b[0;36mpandas._libs.hashtable.PyObjectHashTable.get_item\u001b[1;34m()\u001b[0m\n",
      "File \u001b[1;32mpandas\\_libs\\hashtable_class_helper.pxi:5206\u001b[0m, in \u001b[0;36mpandas._libs.hashtable.PyObjectHashTable.get_item\u001b[1;34m()\u001b[0m\n",
      "\u001b[1;31mKeyError\u001b[0m: ('Unnamed: 0', '0')",
      "\nThe above exception was the direct cause of the following exception:\n",
      "\u001b[1;31mKeyError\u001b[0m                                  Traceback (most recent call last)",
      "\u001b[1;32mc:\\Users\\pc\\.vscode\\gitwork\\histograms\\draw-histogram.ipynb Cell 2'\u001b[0m in \u001b[0;36m<cell line: 34>\u001b[1;34m()\u001b[0m\n\u001b[0;32m     <a href='vscode-notebook-cell:/c%3A/Users/pc/.vscode/gitwork/histograms/draw-histogram.ipynb#ch0000002?line=32'>33</a>\u001b[0m df\u001b[39m=\u001b[39mpandas\u001b[39m.\u001b[39mDataFrame(excel_data)\n\u001b[0;32m     <a href='vscode-notebook-cell:/c%3A/Users/pc/.vscode/gitwork/histograms/draw-histogram.ipynb#ch0000002?line=33'>34</a>\u001b[0m \u001b[39mfor\u001b[39;00m j \u001b[39min\u001b[39;00m \u001b[39mrange\u001b[39m(\u001b[39m0\u001b[39m,\u001b[39m13\u001b[39m): \u001b[39m# Цикл для создания заголовков \u001b[39;00m\n\u001b[1;32m---> <a href='vscode-notebook-cell:/c%3A/Users/pc/.vscode/gitwork/histograms/draw-histogram.ipynb#ch0000002?line=34'>35</a>\u001b[0m     \u001b[39mif\u001b[39;00m df[\u001b[39m\"\u001b[39;49m\u001b[39mUnnamed: 0\u001b[39;49m\u001b[39m\"\u001b[39;49m,\u001b[39mstr\u001b[39;49m(j)] \u001b[39m>\u001b[39m \u001b[39m\"\u001b[39m\u001b[39mNaN\u001b[39m\u001b[39m\"\u001b[39m:\n\u001b[0;32m     <a href='vscode-notebook-cell:/c%3A/Users/pc/.vscode/gitwork/histograms/draw-histogram.ipynb#ch0000002?line=35'>36</a>\u001b[0m         titles_for_histogram\u001b[39m+\u001b[39m\u001b[39m=\u001b[39m(df[\u001b[39m\"\u001b[39m\u001b[39mUnnamed: 0\u001b[39m\u001b[39m\"\u001b[39m,\u001b[39mstr\u001b[39m(j)]\u001b[39m+\u001b[39m\u001b[39m\"\u001b[39m\u001b[39m , \u001b[39m\u001b[39m\"\u001b[39m)\n\u001b[0;32m     <a href='vscode-notebook-cell:/c%3A/Users/pc/.vscode/gitwork/histograms/draw-histogram.ipynb#ch0000002?line=36'>37</a>\u001b[0m \u001b[39mprint\u001b[39m(\u001b[39m\"\u001b[39m\u001b[39mtitles_for_histogram\u001b[39m\u001b[39m\\n\u001b[39;00m\u001b[39m\"\u001b[39m, titles_for_histogram)\n",
      "File \u001b[1;32mc:\\Users\\pc\\anaconda3\\envs\\importXML\\lib\\site-packages\\pandas\\core\\frame.py:3505\u001b[0m, in \u001b[0;36mDataFrame.__getitem__\u001b[1;34m(self, key)\u001b[0m\n\u001b[0;32m   3503\u001b[0m \u001b[39mif\u001b[39;00m \u001b[39mself\u001b[39m\u001b[39m.\u001b[39mcolumns\u001b[39m.\u001b[39mnlevels \u001b[39m>\u001b[39m \u001b[39m1\u001b[39m:\n\u001b[0;32m   3504\u001b[0m     \u001b[39mreturn\u001b[39;00m \u001b[39mself\u001b[39m\u001b[39m.\u001b[39m_getitem_multilevel(key)\n\u001b[1;32m-> 3505\u001b[0m indexer \u001b[39m=\u001b[39m \u001b[39mself\u001b[39;49m\u001b[39m.\u001b[39;49mcolumns\u001b[39m.\u001b[39;49mget_loc(key)\n\u001b[0;32m   3506\u001b[0m \u001b[39mif\u001b[39;00m is_integer(indexer):\n\u001b[0;32m   3507\u001b[0m     indexer \u001b[39m=\u001b[39m [indexer]\n",
      "File \u001b[1;32mc:\\Users\\pc\\anaconda3\\envs\\importXML\\lib\\site-packages\\pandas\\core\\indexes\\base.py:3623\u001b[0m, in \u001b[0;36mIndex.get_loc\u001b[1;34m(self, key, method, tolerance)\u001b[0m\n\u001b[0;32m   3621\u001b[0m     \u001b[39mreturn\u001b[39;00m \u001b[39mself\u001b[39m\u001b[39m.\u001b[39m_engine\u001b[39m.\u001b[39mget_loc(casted_key)\n\u001b[0;32m   3622\u001b[0m \u001b[39mexcept\u001b[39;00m \u001b[39mKeyError\u001b[39;00m \u001b[39mas\u001b[39;00m err:\n\u001b[1;32m-> 3623\u001b[0m     \u001b[39mraise\u001b[39;00m \u001b[39mKeyError\u001b[39;00m(key) \u001b[39mfrom\u001b[39;00m \u001b[39merr\u001b[39;00m\n\u001b[0;32m   3624\u001b[0m \u001b[39mexcept\u001b[39;00m \u001b[39mTypeError\u001b[39;00m:\n\u001b[0;32m   3625\u001b[0m     \u001b[39m# If we have a listlike key, _check_indexing_error will raise\u001b[39;00m\n\u001b[0;32m   3626\u001b[0m     \u001b[39m#  InvalidIndexError. Otherwise we fall through and re-raise\u001b[39;00m\n\u001b[0;32m   3627\u001b[0m     \u001b[39m#  the TypeError.\u001b[39;00m\n\u001b[0;32m   3628\u001b[0m     \u001b[39mself\u001b[39m\u001b[39m.\u001b[39m_check_indexing_error(key)\n",
      "\u001b[1;31mKeyError\u001b[0m: ('Unnamed: 0', '0')"
     ]
    }
   ],
   "source": [
    "from matplotlib.pyplot import title\n",
    "\n",
    "\n",
    "print(plotly.__version__)\n",
    "years=\"\"\n",
    "list_for_years=\"\"\n",
    "titles_for_histogram=\"\"\n",
    "i=0\n",
    "standart=\"55555\"\n",
    "j=0\n",
    "excel_data=pandas.read_excel('C:/Users/pc/.vscode/gitwork/histograms/excel.xlsx') #прочитали фаил с таблицей \n",
    "#print('excel_data=',excel_data)\n",
    "data_df=pandas.DataFrame(excel_data) # В data храниться таблица в виде фрейма \n",
    "print(\"Content from excel file:\\n\", data_df)\n",
    "#modified_data=pandas.read_excel('.vscode\\gitwork\\histograms\\excel.xlsx',usecols=cols,useindex=rows)\n",
    "#print('Mod Data:',modified_data)\n",
    "#print(\"Data from DataFrame\",data.to_string())\n",
    "data_df.items()\n",
    "for col_name, data_df in data_df.items(): #Цикл для помещения в years времени(года в виде 2017, 2018, 2019 и т.д), которое будет анализироваться  \n",
    "    col_name_in_str=str(col_name)\n",
    "    if (col_name_in_str!='NoN' and col_name_in_str < standart ):\n",
    "        col_name_in_str=str(col_name)\n",
    "        years+=col_name_in_str\n",
    "len_years=len(years)\n",
    "for j in range(0,7): # Цикл для разделения времени (сделать их читабельными)\n",
    "    years_for_j=years[i:i+4]\n",
    "    #value_for_enter=\"!\".join(years_for_j)\n",
    "    list_for_years+=(years_for_j + \",\")\n",
    "    i+=4\n",
    "split_sheet_year=(list_for_years.split(\",\"))\n",
    "print(split_sheet_year)\n",
    "#table = pandas.series(index=\"index\" , column=\"column\")\n",
    "df=pandas.DataFrame(excel_data)\n",
    "for j in range(0,13): # Цикл для создания заголовков \n",
    "    if df[\"Unnamed: 0\",str(j)] > \"NaN\":\n",
    "        titles_for_histogram+=(df[\"Unnamed: 0\",str(j)]+\" , \")\n",
    "print(\"titles_for_histogram\\n\", titles_for_histogram)\n"
   ]
  },
  {
   "cell_type": "code",
   "execution_count": null,
   "metadata": {},
   "outputs": [],
   "source": [
    "values = [0, 1.2, 1.3, 1.9, 4.3, 2.5, 2.7, 4.3, 1.3, 3.9]\n",
    "plt.title()\n",
    "plt.bar() \n",
    "plt.show()"
   ]
  },
  {
   "cell_type": "code",
   "execution_count": null,
   "metadata": {},
   "outputs": [],
   "source": [
    "df"
   ]
  },
  {
   "cell_type": "code",
   "execution_count": null,
   "metadata": {},
   "outputs": [],
   "source": [
    "pandas.DataFrame(excel_data)"
   ]
  }
 ],
 "metadata": {
  "kernelspec": {
   "display_name": "Python 3.9.12 ('importXML': conda)",
   "language": "python",
   "name": "python3"
  },
  "language_info": {
   "codemirror_mode": {
    "name": "ipython",
    "version": 3
   },
   "file_extension": ".py",
   "mimetype": "text/x-python",
   "name": "python",
   "nbconvert_exporter": "python",
   "pygments_lexer": "ipython3",
   "version": "3.9.12"
  },
  "orig_nbformat": 4,
  "vscode": {
   "interpreter": {
    "hash": "ba57513134a20941ac91d7870e7f52ad4c216d278a14c4beea63423c1d6b608d"
   }
  }
 },
 "nbformat": 4,
 "nbformat_minor": 2
}
