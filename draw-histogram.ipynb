{
 "cells": [
  {
   "cell_type": "code",
   "execution_count": 172,
   "metadata": {},
   "outputs": [
    {
     "data": {
      "text/html": [
       "        <script type=\"text/javascript\">\n",
       "        window.PlotlyConfig = {MathJaxConfig: 'local'};\n",
       "        if (window.MathJax) {MathJax.Hub.Config({SVG: {font: \"STIX-Web\"}});}\n",
       "        if (typeof require !== 'undefined') {\n",
       "        require.undef(\"plotly\");\n",
       "        requirejs.config({\n",
       "            paths: {\n",
       "                'plotly': ['https://cdn.plot.ly/plotly-2.9.0.min']\n",
       "            }\n",
       "        });\n",
       "        require(['plotly'], function(Plotly) {\n",
       "            window._Plotly = Plotly;\n",
       "        });\n",
       "        }\n",
       "        </script>\n",
       "        "
      ]
     },
     "metadata": {},
     "output_type": "display_data"
    }
   ],
   "source": [
    "from tkinter.tix import NoteBook\n",
    "from matplotlib.pyplot import title\n",
    "import matplotlib\n",
    "import plotly \n",
    "import pandas \n",
    "import numpy as np\n",
    "from plotly.offline import download_plotlyjs, init_notebook_mode, plot, iplot\n",
    "init_notebook_mode(connected=True)\n",
    "import matplotlib.pyplot as plt\n",
    "%matplotlib inline"
   ]
  },
  {
   "cell_type": "code",
   "execution_count": 173,
   "metadata": {},
   "outputs": [
    {
     "name": "stdout",
     "output_type": "stream",
     "text": [
      "5.6.0\n",
      "Content from excel file:\n",
      "                                            Unnamed: 0 Unnamed: 1       2017  \\\n",
      "0                               ВТП Казани, тыс. руб.        NaN  674739900   \n",
      "1                    Добавленная стоимость, тыс. руб.        NaN  191057445   \n",
      "2   Оценка влияния прироста добавленной стоимости ...        NaN          -   \n",
      "3              Обрабатывающие производства, тыс. руб.         ДС   75373868   \n",
      "4                                                 NaN    Впериод          -   \n",
      "5                            Строительство, тыс. руб.         ДС    8376613   \n",
      "6                                                 NaN    Впериод          -   \n",
      "7               Транспортировка и хранение, тыс. руб.         ДС   26272378   \n",
      "8                                                 NaN    Впериод          -   \n",
      "9             Оптовая и розничная торговля, тыс. руб.         ДС   19963824   \n",
      "10                                                NaN    Впериод          -   \n",
      "11  Деятельность в области информатизации и связи,...         ДС    6646511   \n",
      "12                                                NaN    Впериод          -   \n",
      "\n",
      "            2018          2019          2020          2021          2022  \\\n",
      "0   7.487229e+08  7.730311e+08  7.981546e+08  8.240946e+08  8.508777e+08   \n",
      "1   2.215849e+08  2.261035e+08  2.307160e+08  2.354226e+08  2.402253e+08   \n",
      "2   4.524000e+00  6.040000e-01  5.970000e-01  5.900000e-01  5.830000e-01   \n",
      "3   8.016919e+07  7.606627e+07  7.878360e+07  7.995836e+07  7.985019e+07   \n",
      "4   7.110000e-01 -5.480000e-01  3.520000e-01  1.470000e-01 -1.300000e-02   \n",
      "5   9.553660e+06  8.194075e+06  8.888142e+06  9.065601e+06  8.888955e+06   \n",
      "6   1.740000e-01 -1.820000e-01  9.000000e-02  2.200000e-02 -2.100000e-02   \n",
      "7   3.540733e+07  2.987596e+06  2.215742e+07  2.069088e+07  1.547035e+07   \n",
      "8   1.354000e+00 -4.330000e+00  2.480000e+00 -1.840000e-01 -6.330000e-01   \n",
      "9   2.566550e+07  3.618143e+07  2.771900e+07  3.045395e+07  3.213704e+07   \n",
      "10  8.450000e-01  1.405000e+00 -1.095000e+00  3.430000e-01  2.040000e-01   \n",
      "11  9.461344e+06  1.026370e+07  8.946154e+06  9.756848e+06  9.857413e+06   \n",
      "12  4.170000e-01  1.070000e-01 -1.700000e-01  1.020000e-01  1.200000e-02   \n",
      "\n",
      "            2023  \n",
      "0   8.785312e+08  \n",
      "1   2.451259e+08  \n",
      "2   5.760000e-01  \n",
      "3   8.115682e+07  \n",
      "4   1.540000e-01  \n",
      "5   9.131324e+06  \n",
      "6   2.800000e-02  \n",
      "7   1.988466e+07  \n",
      "8   5.190000e-01  \n",
      "9   3.069124e+07  \n",
      "10 -1.700000e-01  \n",
      "11  9.709393e+06  \n",
      "12 -1.700000e-02  \n",
      "['2017', '2018', '2019', '2020', '2021', '2022', '2023', '']\n"
     ]
    },
    {
     "data": {
      "text/plain": [
       "''"
      ]
     },
     "execution_count": 173,
     "metadata": {},
     "output_type": "execute_result"
    }
   ],
   "source": [
    "print(plotly.__version__)\n",
    "years=\"\"                                               \n",
    "list_for_years=\"\"\n",
    "titles_for_histogram=\"\"\n",
    "axis_y=\"\"\n",
    "i=0\n",
    "standart=\"55555\"\n",
    "j=0\n",
    "excel_data=pandas.read_excel('C:/Users/pc/.vscode/gitwork/histograms/excel.xlsx') #прочитали фаил с таблицей \n",
    "#print(\"LLLLLLen\", len(excel_data))\n",
    "data_df=pandas.DataFrame(excel_data) # В data хранится таблица в виде фрейма \n",
    "print(\"Content from excel file:\\n\", data_df)\n",
    "data_df.items()\n",
    "for col_name, data_df in data_df.items(): #Цикл для помещения в years времени(года в виде 2017, 2018, 2019 и т.д), которое будет анализироваться  \n",
    "    col_name_in_str=str(col_name)\n",
    "    if (col_name_in_str!='NoN' and col_name_in_str < standart ):\n",
    "        col_name_in_str=str(col_name)\n",
    "        years+=col_name_in_str\n",
    "len_years=len(years)\n",
    "for j in range(0,7): # Цикл для разделения времени (сделать их читабельными)\n",
    "    years_for_j=years[i:i+4]\n",
    "    list_for_years+=(years_for_j + \",\")\n",
    "    i+=4\n",
    "split_sheet_year=(list_for_years.split(\",\"))\n",
    "print(split_sheet_year)\n",
    "df=pandas.DataFrame(excel_data)\n",
    "#for j in range(0,13): # Цикл для создания заголовков \n",
    "#    if df[\"Unnamed: 0\",str(j)] > \"NaN\":\n",
    "#        titles_for_histogram+=(df[\"Unnamed: 0\",str(j)]+\" , \")\n",
    "#print(\"titles_for_histogram\\n\", titles_for_histogram)\n",
    "# выше: пробный вариант отсекания значений с NaN в столбцах \n",
    "# Ниже: второй вариант отсекания значентй с Nan в столбцах \n",
    "df_no_nan= df[df[\"Unnamed: 0\"].notna()] # избавились от NaN в превом столбце\n",
    "len_df_no_nan=len(df_no_nan)\n",
    "titles_for_histogram = df_no_nan.iloc[0:11,0]\n",
    "split_sheet_year.pop(-1)"
   ]
  },
  {
   "cell_type": "code",
   "execution_count": 176,
   "metadata": {},
   "outputs": [
    {
     "name": "stdout",
     "output_type": "stream",
     "text": [
      "axis_x::: ['2017', '2018', '2019', '2020', '2021', '2022', '2023']\n",
      "value_for_check [674739900, 748722900.0, 773031100.0, 798154610.75, 824094635.6, 850877711.26, 878531236.88]\n",
      "axis_y::: [674739900, 748722900.0, 773031100.0, 798154610.75, 824094635.6, 850877711.26, 878531236.88]\n"
     ]
    },
    {
     "data": {
      "image/png": "[encoded data removed]",
      "text/plain": [
       "<Figure size 432x288 with 1 Axes>"
      ]
     },
     "metadata": {
      "needs_background": "light"
     },
     "output_type": "display_data"
    },
    {
     "name": "stdout",
     "output_type": "stream",
     "text": [
      "value_for_check [191057445, 221584931.0, 226103515.0, 230716026.71, 235422633.65, 240225255.38, 245125850.59]\n",
      "axis_y::: [191057445, 221584931.0, 226103515.0, 230716026.71, 235422633.65, 240225255.38, 245125850.59]\n"
     ]
    },
    {
     "data": {
      "image/png": "[encoded data removed]",
      "text/plain": [
       "<Figure size 432x288 with 1 Axes>"
      ]
     },
     "metadata": {
      "needs_background": "light"
     },
     "output_type": "display_data"
    },
    {
     "name": "stdout",
     "output_type": "stream",
     "text": [
      "value_for_check ['-', 4.524, 0.604, 0.597, 0.59, 0.583, 0.576]\n",
      "value_for_check [75373868, 80169194.0, 76066267.0, 78783598.344, 79958359.172, 79850189.785, 81156818.408]\n",
      "axis_y::: [75373868, 80169194.0, 76066267.0, 78783598.344, 79958359.172, 79850189.785, 81156818.408]\n"
     ]
    },
    {
     "data": {
      "image/png": "[encoded data removed]",
      "text/plain": [
       "<Figure size 432x288 with 1 Axes>"
      ]
     },
     "metadata": {
      "needs_background": "light"
     },
     "output_type": "display_data"
    },
    {
     "name": "stdout",
     "output_type": "stream",
     "text": [
      "value_for_check ['-', 0.711, -0.548, 0.352, 0.147, -0.013, 0.154]\n",
      "value_for_check [8376613, 9553660.0, 8194075.0, 8888142.345, 9065600.551, 8888954.769, 9131323.671]\n",
      "axis_y::: [26272378, 35407329.0, 2987596.0, 22157415.832, 20690880.642, 15470346.997, 19884660.344]\n"
     ]
    },
    {
     "data": {
      "image/png": "[encoded data removed]",
      "text/plain": [
       "<Figure size 432x288 with 1 Axes>"
      ]
     },
     "metadata": {
      "needs_background": "light"
     },
     "output_type": "display_data"
    },
    {
     "name": "stdout",
     "output_type": "stream",
     "text": [
      "value_for_check ['-', 0.174, -0.182, 0.09, 0.022, -0.021, 0.028]\n",
      "value_for_check [26272378, 35407329.0, 2987596.0, 22157415.832, 20690880.642, 15470346.997, 19884660.344]\n",
      "axis_y::: [6646511, 9461344.0, 10263705.0, 8946153.853, 9756847.568, 9857412.822, 9709393.347]\n"
     ]
    },
    {
     "data": {
      "image/png": "[encoded data removed]",
      "text/plain": [
       "<Figure size 432x288 with 1 Axes>"
      ]
     },
     "metadata": {
      "needs_background": "light"
     },
     "output_type": "display_data"
    }
   ],
   "source": [
    "# формирование графиков \n",
    "# в split_sheet_year хранится период, за который формировалась таблица\n",
    "axis_x = list(split_sheet_year)\n",
    "print(\"axis_x:::\",axis_x)\n",
    "for counter in range(0,len_df_no_nan): \n",
    "    value_for_check=list(excel_data.iloc[int(counter),2:])\n",
    "    print('value_for_check',value_for_check)\n",
    "    if int(value_for_check[3])> 500:\n",
    "        y_pos= np.arange(len(split_sheet_year))\n",
    "        axis_y=list(df_no_nan.iloc[int(counter),2:])\n",
    "        print(\"axis_y:::\",axis_y)\n",
    "        title=str(df_no_nan.iloc[int(counter),0])\n",
    "        plt.title(title)\n",
    "        plt.bar(axis_x,axis_y,align='center', alpha=1)\n",
    "        plt.savefig('images/histogram ' + title + '.pdf')\n",
    "        plt.show()\n"
   ]
  },
  {
   "cell_type": "code",
   "execution_count": null,
   "metadata": {},
   "outputs": [
    {
     "name": "stdout",
     "output_type": "stream",
     "text": [
      "                                           Unnamed: 0 Unnamed: 1       2017  \\\n",
      "0                               ВТП Казани, тыс. руб.        NaN  674739900   \n",
      "1                    Добавленная стоимость, тыс. руб.        NaN  191057445   \n",
      "2   Оценка влияния прироста добавленной стоимости ...        NaN          -   \n",
      "3              Обрабатывающие производства, тыс. руб.         ДС   75373868   \n",
      "5                            Строительство, тыс. руб.         ДС    8376613   \n",
      "7               Транспортировка и хранение, тыс. руб.         ДС   26272378   \n",
      "9             Оптовая и розничная торговля, тыс. руб.         ДС   19963824   \n",
      "11  Деятельность в области информатизации и связи,...         ДС    6646511   \n",
      "\n",
      "            2018          2019          2020          2021          2022  \\\n",
      "0   7.487229e+08  7.730311e+08  7.981546e+08  8.240946e+08  8.508777e+08   \n",
      "1   2.215849e+08  2.261035e+08  2.307160e+08  2.354226e+08  2.402253e+08   \n",
      "2   4.524000e+00  6.040000e-01  5.970000e-01  5.900000e-01  5.830000e-01   \n",
      "3   8.016919e+07  7.606627e+07  7.878360e+07  7.995836e+07  7.985019e+07   \n",
      "5   9.553660e+06  8.194075e+06  8.888142e+06  9.065601e+06  8.888955e+06   \n",
      "7   3.540733e+07  2.987596e+06  2.215742e+07  2.069088e+07  1.547035e+07   \n",
      "9   2.566550e+07  3.618143e+07  2.771900e+07  3.045395e+07  3.213704e+07   \n",
      "11  9.461344e+06  1.026370e+07  8.946154e+06  9.756848e+06  9.857413e+06   \n",
      "\n",
      "            2023  \n",
      "0   8.785312e+08  \n",
      "1   2.451259e+08  \n",
      "2   5.760000e-01  \n",
      "3   8.115682e+07  \n",
      "5   9.131324e+06  \n",
      "7   1.988466e+07  \n",
      "9   3.069124e+07  \n",
      "11  9.709393e+06  \n"
     ]
    }
   ],
   "source": [
    "print(df_no_nan)"
   ]
  },
  {
   "cell_type": "code",
   "execution_count": null,
   "metadata": {},
   "outputs": [
    {
     "data": {
      "text/html": [
       "<div>\n",
       "<style scoped>\n",
       "    .dataframe tbody tr th:only-of-type {\n",
       "        vertical-align: middle;\n",
       "    }\n",
       "\n",
       "    .dataframe tbody tr th {\n",
       "        vertical-align: top;\n",
       "    }\n",
       "\n",
       "    .dataframe thead th {\n",
       "        text-align: right;\n",
       "    }\n",
       "</style>\n",
       "<table border=\"1\" class=\"dataframe\">\n",
       "  <thead>\n",
       "    <tr style=\"text-align: right;\">\n",
       "      <th></th>\n",
       "      <th>Unnamed: 0</th>\n",
       "      <th>Unnamed: 1</th>\n",
       "      <th>2017</th>\n",
       "      <th>2018</th>\n",
       "      <th>2019</th>\n",
       "      <th>2020</th>\n",
       "      <th>2021</th>\n",
       "      <th>2022</th>\n",
       "      <th>2023</th>\n",
       "    </tr>\n",
       "  </thead>\n",
       "  <tbody>\n",
       "    <tr>\n",
       "      <th>0</th>\n",
       "      <td>ВТП Казани, тыс. руб.</td>\n",
       "      <td>NaN</td>\n",
       "      <td>674739900</td>\n",
       "      <td>7.487229e+08</td>\n",
       "      <td>7.730311e+08</td>\n",
       "      <td>7.981546e+08</td>\n",
       "      <td>8.240946e+08</td>\n",
       "      <td>8.508777e+08</td>\n",
       "      <td>8.785312e+08</td>\n",
       "    </tr>\n",
       "    <tr>\n",
       "      <th>1</th>\n",
       "      <td>Добавленная стоимость, тыс. руб.</td>\n",
       "      <td>NaN</td>\n",
       "      <td>191057445</td>\n",
       "      <td>2.215849e+08</td>\n",
       "      <td>2.261035e+08</td>\n",
       "      <td>2.307160e+08</td>\n",
       "      <td>2.354226e+08</td>\n",
       "      <td>2.402253e+08</td>\n",
       "      <td>2.451259e+08</td>\n",
       "    </tr>\n",
       "    <tr>\n",
       "      <th>2</th>\n",
       "      <td>Оценка влияния прироста добавленной стоимости ...</td>\n",
       "      <td>NaN</td>\n",
       "      <td>-</td>\n",
       "      <td>4.524000e+00</td>\n",
       "      <td>6.040000e-01</td>\n",
       "      <td>5.970000e-01</td>\n",
       "      <td>5.900000e-01</td>\n",
       "      <td>5.830000e-01</td>\n",
       "      <td>5.760000e-01</td>\n",
       "    </tr>\n",
       "    <tr>\n",
       "      <th>3</th>\n",
       "      <td>Обрабатывающие производства, тыс. руб.</td>\n",
       "      <td>ДС</td>\n",
       "      <td>75373868</td>\n",
       "      <td>8.016919e+07</td>\n",
       "      <td>7.606627e+07</td>\n",
       "      <td>7.878360e+07</td>\n",
       "      <td>7.995836e+07</td>\n",
       "      <td>7.985019e+07</td>\n",
       "      <td>8.115682e+07</td>\n",
       "    </tr>\n",
       "    <tr>\n",
       "      <th>4</th>\n",
       "      <td>NaN</td>\n",
       "      <td>Впериод</td>\n",
       "      <td>-</td>\n",
       "      <td>7.110000e-01</td>\n",
       "      <td>-5.480000e-01</td>\n",
       "      <td>3.520000e-01</td>\n",
       "      <td>1.470000e-01</td>\n",
       "      <td>-1.300000e-02</td>\n",
       "      <td>1.540000e-01</td>\n",
       "    </tr>\n",
       "    <tr>\n",
       "      <th>5</th>\n",
       "      <td>Строительство, тыс. руб.</td>\n",
       "      <td>ДС</td>\n",
       "      <td>8376613</td>\n",
       "      <td>9.553660e+06</td>\n",
       "      <td>8.194075e+06</td>\n",
       "      <td>8.888142e+06</td>\n",
       "      <td>9.065601e+06</td>\n",
       "      <td>8.888955e+06</td>\n",
       "      <td>9.131324e+06</td>\n",
       "    </tr>\n",
       "    <tr>\n",
       "      <th>6</th>\n",
       "      <td>NaN</td>\n",
       "      <td>Впериод</td>\n",
       "      <td>-</td>\n",
       "      <td>1.740000e-01</td>\n",
       "      <td>-1.820000e-01</td>\n",
       "      <td>9.000000e-02</td>\n",
       "      <td>2.200000e-02</td>\n",
       "      <td>-2.100000e-02</td>\n",
       "      <td>2.800000e-02</td>\n",
       "    </tr>\n",
       "    <tr>\n",
       "      <th>7</th>\n",
       "      <td>Транспортировка и хранение, тыс. руб.</td>\n",
       "      <td>ДС</td>\n",
       "      <td>26272378</td>\n",
       "      <td>3.540733e+07</td>\n",
       "      <td>2.987596e+06</td>\n",
       "      <td>2.215742e+07</td>\n",
       "      <td>2.069088e+07</td>\n",
       "      <td>1.547035e+07</td>\n",
       "      <td>1.988466e+07</td>\n",
       "    </tr>\n",
       "    <tr>\n",
       "      <th>8</th>\n",
       "      <td>NaN</td>\n",
       "      <td>Впериод</td>\n",
       "      <td>-</td>\n",
       "      <td>1.354000e+00</td>\n",
       "      <td>-4.330000e+00</td>\n",
       "      <td>2.480000e+00</td>\n",
       "      <td>-1.840000e-01</td>\n",
       "      <td>-6.330000e-01</td>\n",
       "      <td>5.190000e-01</td>\n",
       "    </tr>\n",
       "    <tr>\n",
       "      <th>9</th>\n",
       "      <td>Оптовая и розничная торговля, тыс. руб.</td>\n",
       "      <td>ДС</td>\n",
       "      <td>19963824</td>\n",
       "      <td>2.566550e+07</td>\n",
       "      <td>3.618143e+07</td>\n",
       "      <td>2.771900e+07</td>\n",
       "      <td>3.045395e+07</td>\n",
       "      <td>3.213704e+07</td>\n",
       "      <td>3.069124e+07</td>\n",
       "    </tr>\n",
       "    <tr>\n",
       "      <th>10</th>\n",
       "      <td>NaN</td>\n",
       "      <td>Впериод</td>\n",
       "      <td>-</td>\n",
       "      <td>8.450000e-01</td>\n",
       "      <td>1.405000e+00</td>\n",
       "      <td>-1.095000e+00</td>\n",
       "      <td>3.430000e-01</td>\n",
       "      <td>2.040000e-01</td>\n",
       "      <td>-1.700000e-01</td>\n",
       "    </tr>\n",
       "    <tr>\n",
       "      <th>11</th>\n",
       "      <td>Деятельность в области информатизации и связи,...</td>\n",
       "      <td>ДС</td>\n",
       "      <td>6646511</td>\n",
       "      <td>9.461344e+06</td>\n",
       "      <td>1.026370e+07</td>\n",
       "      <td>8.946154e+06</td>\n",
       "      <td>9.756848e+06</td>\n",
       "      <td>9.857413e+06</td>\n",
       "      <td>9.709393e+06</td>\n",
       "    </tr>\n",
       "    <tr>\n",
       "      <th>12</th>\n",
       "      <td>NaN</td>\n",
       "      <td>Впериод</td>\n",
       "      <td>-</td>\n",
       "      <td>4.170000e-01</td>\n",
       "      <td>1.070000e-01</td>\n",
       "      <td>-1.700000e-01</td>\n",
       "      <td>1.020000e-01</td>\n",
       "      <td>1.200000e-02</td>\n",
       "      <td>-1.700000e-02</td>\n",
       "    </tr>\n",
       "  </tbody>\n",
       "</table>\n",
       "</div>"
      ],
      "text/plain": [
       "                                           Unnamed: 0 Unnamed: 1       2017  \\\n",
       "0                               ВТП Казани, тыс. руб.        NaN  674739900   \n",
       "1                    Добавленная стоимость, тыс. руб.        NaN  191057445   \n",
       "2   Оценка влияния прироста добавленной стоимости ...        NaN          -   \n",
       "3              Обрабатывающие производства, тыс. руб.         ДС   75373868   \n",
       "4                                                 NaN    Впериод          -   \n",
       "5                            Строительство, тыс. руб.         ДС    8376613   \n",
       "6                                                 NaN    Впериод          -   \n",
       "7               Транспортировка и хранение, тыс. руб.         ДС   26272378   \n",
       "8                                                 NaN    Впериод          -   \n",
       "9             Оптовая и розничная торговля, тыс. руб.         ДС   19963824   \n",
       "10                                                NaN    Впериод          -   \n",
       "11  Деятельность в области информатизации и связи,...         ДС    6646511   \n",
       "12                                                NaN    Впериод          -   \n",
       "\n",
       "            2018          2019          2020          2021          2022  \\\n",
       "0   7.487229e+08  7.730311e+08  7.981546e+08  8.240946e+08  8.508777e+08   \n",
       "1   2.215849e+08  2.261035e+08  2.307160e+08  2.354226e+08  2.402253e+08   \n",
       "2   4.524000e+00  6.040000e-01  5.970000e-01  5.900000e-01  5.830000e-01   \n",
       "3   8.016919e+07  7.606627e+07  7.878360e+07  7.995836e+07  7.985019e+07   \n",
       "4   7.110000e-01 -5.480000e-01  3.520000e-01  1.470000e-01 -1.300000e-02   \n",
       "5   9.553660e+06  8.194075e+06  8.888142e+06  9.065601e+06  8.888955e+06   \n",
       "6   1.740000e-01 -1.820000e-01  9.000000e-02  2.200000e-02 -2.100000e-02   \n",
       "7   3.540733e+07  2.987596e+06  2.215742e+07  2.069088e+07  1.547035e+07   \n",
       "8   1.354000e+00 -4.330000e+00  2.480000e+00 -1.840000e-01 -6.330000e-01   \n",
       "9   2.566550e+07  3.618143e+07  2.771900e+07  3.045395e+07  3.213704e+07   \n",
       "10  8.450000e-01  1.405000e+00 -1.095000e+00  3.430000e-01  2.040000e-01   \n",
       "11  9.461344e+06  1.026370e+07  8.946154e+06  9.756848e+06  9.857413e+06   \n",
       "12  4.170000e-01  1.070000e-01 -1.700000e-01  1.020000e-01  1.200000e-02   \n",
       "\n",
       "            2023  \n",
       "0   8.785312e+08  \n",
       "1   2.451259e+08  \n",
       "2   5.760000e-01  \n",
       "3   8.115682e+07  \n",
       "4   1.540000e-01  \n",
       "5   9.131324e+06  \n",
       "6   2.800000e-02  \n",
       "7   1.988466e+07  \n",
       "8   5.190000e-01  \n",
       "9   3.069124e+07  \n",
       "10 -1.700000e-01  \n",
       "11  9.709393e+06  \n",
       "12 -1.700000e-02  "
      ]
     },
     "execution_count": 10,
     "metadata": {},
     "output_type": "execute_result"
    }
   ],
   "source": [
    "pandas.DataFrame(excel_data)"
   ]
  }
 ],
 "metadata": {
  "kernelspec": {
   "display_name": "Python 3.9.12 ('importXML': conda)",
   "language": "python",
   "name": "python3"
  },
  "language_info": {
   "codemirror_mode": {
    "name": "ipython",
    "version": 3
   },
   "file_extension": ".py",
   "mimetype": "text/x-python",
   "name": "python",
   "nbconvert_exporter": "python",
   "pygments_lexer": "ipython3",
   "version": "3.9.12"
  },
  "orig_nbformat": 4,
  "vscode": {
   "interpreter": {
    "hash": "ba57513134a20941ac91d7870e7f52ad4c216d278a14c4beea63423c1d6b608d"
   }
  }
 },
 "nbformat": 4,
 "nbformat_minor": 2
}
